{
 "cells": [
  {
   "cell_type": "code",
   "execution_count": 1,
   "metadata": {},
   "outputs": [
    {
     "ename": "ModuleNotFoundError",
     "evalue": "No module named 'sklearn'",
     "output_type": "error",
     "traceback": [
      "\u001b[1;31m---------------------------------------------------------------------------\u001b[0m",
      "\u001b[1;31mModuleNotFoundError\u001b[0m                       Traceback (most recent call last)",
      "\u001b[1;32mc:\\Users\\piotr\\programowanie\\ai\\PyTorchSzkolenie\\2_Regresja.ipynb Cell 1\u001b[0m line \u001b[0;36m1\n\u001b[1;32m----> <a href='vscode-notebook-cell:/c%3A/Users/piotr/programowanie/ai/PyTorchSzkolenie/2_Regresja.ipynb#W0sZmlsZQ%3D%3D?line=0'>1</a>\u001b[0m \u001b[39mfrom\u001b[39;00m \u001b[39msklearn\u001b[39;00m\u001b[39m.\u001b[39;00m\u001b[39mdatasets\u001b[39;00m \u001b[39mimport\u001b[39;00m make_regression\n\u001b[0;32m      <a href='vscode-notebook-cell:/c%3A/Users/piotr/programowanie/ai/PyTorchSzkolenie/2_Regresja.ipynb#W0sZmlsZQ%3D%3D?line=1'>2</a>\u001b[0m \u001b[39mimport\u001b[39;00m \u001b[39mmatplotlib\u001b[39;00m\u001b[39m.\u001b[39;00m\u001b[39mpyplot\u001b[39;00m \u001b[39mas\u001b[39;00m \u001b[39mplt\u001b[39;00m\n\u001b[0;32m      <a href='vscode-notebook-cell:/c%3A/Users/piotr/programowanie/ai/PyTorchSzkolenie/2_Regresja.ipynb#W0sZmlsZQ%3D%3D?line=3'>4</a>\u001b[0m bias \u001b[39m=\u001b[39m \u001b[39m10\u001b[39m\n",
      "\u001b[1;31mModuleNotFoundError\u001b[0m: No module named 'sklearn'"
     ]
    }
   ],
   "source": [
    "from sklearn.datasets import make_regression\n",
    "import matplotlib.pyplot as plt\n",
    "\n",
    "bias = 10\n",
    "\n",
    "# Wykorzystajmy funkcję make_regression do wygenerowania danych regresji.\n",
    "# - n_samples: Liczba próbek danych.\n",
    "# - n_features: Liczba cech w danych (jedna cecha).\n",
    "# - n_targets: Liczba celów (jeden cel).\n",
    "# - noise: Poziom szumu w danych.\n",
    "# - bias: Stała przesunięcia w regresji.\n",
    "# - coef: Określa, czy zwracać współczynniki regresji.\n",
    "# - random_state: Ustawia ziarno generatora liczb losowych dla reprodukowalności wyników.\n",
    "X_numpy, y_numpy, coef = make_regression(\n",
    "    n_samples=5000,\n",
    "    n_features=1,\n",
    "    n_targets=1,\n",
    "    noise=10,\n",
    "    bias=bias,\n",
    "    coef=True,\n",
    "    random_state=42\n",
    ")"
   ]
  },
  {
   "cell_type": "code",
   "execution_count": 2,
   "metadata": {},
   "outputs": [
    {
     "ename": "NameError",
     "evalue": "name 'plt' is not defined",
     "output_type": "error",
     "traceback": [
      "\u001b[1;31m---------------------------------------------------------------------------\u001b[0m",
      "\u001b[1;31mNameError\u001b[0m                                 Traceback (most recent call last)",
      "\u001b[1;32mc:\\Users\\piotr\\programowanie\\ai\\PyTorchSzkolenie\\2_Regresja.ipynb Cell 2\u001b[0m line \u001b[0;36m1\n\u001b[1;32m----> <a href='vscode-notebook-cell:/c%3A/Users/piotr/programowanie/ai/PyTorchSzkolenie/2_Regresja.ipynb#W1sZmlsZQ%3D%3D?line=0'>1</a>\u001b[0m fig, ax \u001b[39m=\u001b[39m plt\u001b[39m.\u001b[39msubplots(figsize\u001b[39m=\u001b[39m(\u001b[39m10\u001b[39m, \u001b[39m8\u001b[39m))\n\u001b[0;32m      <a href='vscode-notebook-cell:/c%3A/Users/piotr/programowanie/ai/PyTorchSzkolenie/2_Regresja.ipynb#W1sZmlsZQ%3D%3D?line=1'>2</a>\u001b[0m ax\u001b[39m.\u001b[39mscatter(X_numpy, y_numpy, c\u001b[39m=\u001b[39m\u001b[39m'\u001b[39m\u001b[39mc\u001b[39m\u001b[39m'\u001b[39m, marker\u001b[39m=\u001b[39m\u001b[39m'\u001b[39m\u001b[39mo\u001b[39m\u001b[39m'\u001b[39m, alpha\u001b[39m=\u001b[39m\u001b[39m0.2\u001b[39m)\n\u001b[0;32m      <a href='vscode-notebook-cell:/c%3A/Users/piotr/programowanie/ai/PyTorchSzkolenie/2_Regresja.ipynb#W1sZmlsZQ%3D%3D?line=3'>4</a>\u001b[0m ax\u001b[39m.\u001b[39mset_xlabel(\u001b[39m'\u001b[39m\u001b[39mX\u001b[39m\u001b[39m'\u001b[39m)\n",
      "\u001b[1;31mNameError\u001b[0m: name 'plt' is not defined"
     ]
    }
   ],
   "source": [
    "\n",
    "fig, ax = plt.subplots(figsize=(10, 8))\n",
    "ax.scatter(X_numpy, y_numpy, c='c', marker='o', alpha=0.2)\n",
    "\n",
    "ax.set_xlabel('X')\n",
    "ax.set_ylabel('y')\n",
    "ax.set_title('Zależność między zmiennymi', size=18, weight='bold')\n",
    "\n",
    "\n",
    "plt.show()"
   ]
  },
  {
   "cell_type": "code",
   "execution_count": null,
   "metadata": {},
   "outputs": [],
   "source": [
    "\n",
    "# Importujemy biblioteki PyTorch.\n",
    "import torch\n",
    "import torch.nn as nn\n",
    "import torch.optim as optim\n",
    "from torch.utils.data import DataLoader, Dataset, random_split\n",
    "\n",
    "# Definiujemy klasę RegressionDataset, która dziedziczy po klasie Dataset z PyTorch.\n",
    "\n",
    "\n",
    "class RegressionDataset(Dataset):\n",
    "    def __init__(self, X, y):\n",
    "        super().__init__()\n",
    "\n",
    "        # Konwertujemy dane X i y na tensory PyTorch typu float32.\n",
    "        self.X = torch.from_numpy(X.astype('float32'))\n",
    "        self.y = torch.from_numpy(y.astype('float32'))\n",
    "\n",
    "    def __len__(self):\n",
    "        # Zwraca liczbę próbek w zbiorze danych.\n",
    "        return len(self.X)\n",
    "\n",
    "    def __getitem__(self, index):\n",
    "        # Zwraca pojedynczą próbkę z zestawu danych w formie krotki (cecha, etykieta).\n",
    "        return self.X[index], self.y[index].unsqueeze(0)\n",
    "\n",
    "\n",
    "# Tworzymy instancję klasy RegressionDataset, przekazując dane X_numpy i y_numpy.\n",
    "dataset = RegressionDataset(X_numpy, y_numpy)"
   ]
  },
  {
   "cell_type": "code",
   "execution_count": null,
   "metadata": {},
   "outputs": [],
   "source": [
    "\n",
    "# Podział na zbiór treningowy i testowy\n",
    "train_dataset, test_dataset = random_split(dataset, lengths=[0.8, 0.2])"
   ]
  },
  {
   "cell_type": "code",
   "execution_count": null,
   "metadata": {},
   "outputs": [],
   "source": [
    "# Tworzy DataLoader dla danych treningowych.\n",
    "train_loader = DataLoader(\n",
    "    dataset=train_dataset,  # Tutaj powinien być zbiór danych treningowych.\n",
    "    batch_size=64,  # Określa rozmiar wsadu (batch size).\n",
    "    shuffle=True  # Mieszanie danych przed każdą epoką treningową.\n",
    ")\n",
    "\n",
    "# Tworzy DataLoader dla danych testowych.\n",
    "test_loader = DataLoader(\n",
    "    dataset=test_dataset,  # Tutaj powinien być zbiór danych testowych.\n",
    "    batch_size=64,  # Określa rozmiar wsadu (batch size) podczas testowania.\n",
    "    # Mieszanie danych przed każdym przejściem przez dane testowe.\n",
    "    shuffle=True\n",
    ")"
   ]
  },
  {
   "cell_type": "code",
   "execution_count": null,
   "metadata": {},
   "outputs": [],
   "source": [
    "\n",
    "# Definiujemy klasę LinearRegressionSimple, która dziedziczy po nn.Module z PyTorch.\n",
    "class LinearRegressionSimple(nn.Module):\n",
    "    def __init__(self, in_features=1, out_features=1):\n",
    "        super().__init__()\n",
    "\n",
    "        # Tworzy warstwę liniową (regresji liniowej) o określonej liczbie cech wejściowych i wyjściowych.\n",
    "        self.linear = nn.Linear(\n",
    "            in_features=in_features,\n",
    "            out_features=out_features\n",
    "        )\n",
    "\n",
    "    def forward(self, x):\n",
    "        # Definiujemy forward pass modelu. Tutaj model po prostu przekształca dane wejściowe przez warstwę liniową.\n",
    "        return self.linear(x)"
   ]
  },
  {
   "cell_type": "code",
   "execution_count": null,
   "metadata": {},
   "outputs": [],
   "source": [
    "\n",
    "model = LinearRegressionSimple()"
   ]
  },
  {
   "cell_type": "code",
   "execution_count": null,
   "metadata": {},
   "outputs": [],
   "source": [
    "\n",
    "# Definiujemy kryterium straty (Mean Squared Error) - średni błąd kwadratowy.\n",
    "criterion = nn.MSELoss()\n",
    "\n",
    "# Definiujemy optymalizator Stochastic Gradient Descent (SGD).\n",
    "# Parametry optymalizatora to parametry modelu (model.parameters()) i współczynnik uczenia (lr=0.001).\n",
    "optimizer = optim.SGD(params=model.parameters(), lr=0.001)"
   ]
  },
  {
   "cell_type": "code",
   "execution_count": null,
   "metadata": {},
   "outputs": [],
   "source": [
    "\n",
    "device = 'cuda' if torch.cuda.is_available() else 'cpu'"
   ]
  },
  {
   "cell_type": "code",
   "execution_count": null,
   "metadata": {},
   "outputs": [
    {
     "data": {
      "text/plain": [
       "'cpu'"
      ]
     },
     "execution_count": 77,
     "metadata": {},
     "output_type": "execute_result"
    }
   ],
   "source": [
    "device"
   ]
  },
  {
   "cell_type": "code",
   "execution_count": null,
   "metadata": {},
   "outputs": [],
   "source": [
    "\n",
    "train_losses = []\n",
    "val_losses = []"
   ]
  },
  {
   "cell_type": "code",
   "execution_count": null,
   "metadata": {},
   "outputs": [],
   "source": [
    "\n",
    "# Definiuj funkcję train, która jest odpowiedzialna za uczenie modelu.\n",
    "def train(model, train_loader, criterion, optimizer, epoch, num_epochs):\n",
    "    # Ustaw model w tryb treningowy.\n",
    "    model.train()\n",
    "    train_loss = 0.0\n",
    "\n",
    "    # Iteruj przez dane treningowe za pomocą DataLoader.\n",
    "    for inputs, targets in train_loader:\n",
    "        # Przenoś dane na urządzenie (np. GPU, jeśli jest dostępne).\n",
    "        inputs = inputs.to(device)\n",
    "        targets = targets.to(device)\n",
    "\n",
    "        # Przewiń dane przez model.\n",
    "        outputs = model(inputs)\n",
    "\n",
    "        # Oblicz stratę (loss) między przewidywaniami a rzeczywistymi celami.\n",
    "        loss = criterion(outputs, targets)\n",
    "\n",
    "        # Wyzeruj gradienty w optymalizatorze.\n",
    "        optimizer.zero_grad()\n",
    "\n",
    "        # Akumuluj stratę.\n",
    "        train_loss += loss.item()\n",
    "\n",
    "        # Oblicz gradienty straty wstecz (backpropagation).\n",
    "        loss.backward()\n",
    "\n",
    "        # Zaktualizuj wagi modelu na podstawie gradientów.\n",
    "        optimizer.step()\n",
    "\n",
    "    # Oblicz średnią stratę na podstawie wszystkich wsadów (batches) w epoce.\n",
    "    avg_loss = train_loss / len(train_loader)\n",
    "\n",
    "    # Wyświetl informacje o postępie treningu.\n",
    "    print(\n",
    "        f'Epoch [{epoch + 1:03}/{num_epochs:03}] | Train Loss: {avg_loss:.4f}')\n",
    "\n",
    "    # Zapisz średnią stratę do listy, aby można ją było później zwizualizować.\n",
    "    train_losses.append(avg_loss)"
   ]
  },
  {
   "cell_type": "code",
   "execution_count": null,
   "metadata": {},
   "outputs": [],
   "source": [
    "# Definiuj funkcję validate, która jest odpowiedzialna za walidację modelu.\n",
    "def validate(model, val_loader, criterion, device):\n",
    "    # Ustaw model w tryb ewaluacji (bez uczenia).\n",
    "    model.eval()\n",
    "    val_loss = 0.0\n",
    "\n",
    "    # Wyłącz obliczanie gradientów (nie jest potrzebne podczas walidacji).\n",
    "    with torch.no_grad():\n",
    "        for inputs, targets in val_loader:\n",
    "            # Przenoś dane na urządzenie (np. GPU, jeśli jest dostępne).\n",
    "            inputs = inputs.to(device)\n",
    "            targets = targets.to(device)\n",
    "\n",
    "            # Przewiń dane przez model.\n",
    "            outputs = model(inputs)\n",
    "\n",
    "            # Oblicz stratę (loss) między przewidywaniami a rzeczywistymi celami.\n",
    "            loss = criterion(outputs, targets)\n",
    "\n",
    "            # Akumuluj stratę.\n",
    "            val_loss += loss.item()\n",
    "\n",
    "    # Oblicz średnią stratę na podstawie wszystkich wsadów (batches) w danych walidacyjnych.\n",
    "    avg_loss = val_loss / len(val_loader)\n",
    "\n",
    "    # Wyświetl informacje o wyniku walidacji.\n",
    "    print(f'Validation Loss: {avg_loss:.4f}')\n",
    "\n",
    "    # Zapisz średnią stratę do listy, aby można ją było później zwizualizować.\n",
    "    val_losses.append(avg_loss)"
   ]
  },
  {
   "cell_type": "code",
   "execution_count": null,
   "metadata": {},
   "outputs": [
    {
     "name": "stdout",
     "output_type": "stream",
     "text": [
      "Epoch [001/030] | Train Loss: 468.2444\n",
      "Validation Loss: 414.4543\n",
      "Epoch [002/030] | Train Loss: 387.2033\n",
      "Validation Loss: 342.5464\n",
      "Epoch [003/030] | Train Loss: 323.6309\n",
      "Validation Loss: 288.8771\n",
      "Epoch [004/030] | Train Loss: 275.2298\n",
      "Validation Loss: 249.6941\n",
      "Epoch [005/030] | Train Loss: 237.6324\n",
      "Validation Loss: 214.5647\n",
      "Epoch [006/030] | Train Loss: 207.6105\n",
      "Validation Loss: 188.5558\n",
      "Epoch [007/030] | Train Loss: 183.8744\n",
      "Validation Loss: 168.6976\n",
      "Epoch [008/030] | Train Loss: 166.1577\n",
      "Validation Loss: 153.6440\n",
      "Epoch [009/030] | Train Loss: 151.7277\n",
      "Validation Loss: 143.7291\n",
      "Epoch [010/030] | Train Loss: 141.3409\n",
      "Validation Loss: 133.2933\n",
      "Epoch [011/030] | Train Loss: 133.2767\n",
      "Validation Loss: 127.6078\n",
      "Epoch [012/030] | Train Loss: 126.5755\n",
      "Validation Loss: 122.3873\n",
      "Epoch [013/030] | Train Loss: 121.5837\n",
      "Validation Loss: 116.7919\n",
      "Epoch [014/030] | Train Loss: 117.5823\n",
      "Validation Loss: 113.4817\n",
      "Epoch [015/030] | Train Loss: 114.6139\n",
      "Validation Loss: 113.4897\n",
      "Epoch [016/030] | Train Loss: 112.0271\n",
      "Validation Loss: 110.9029\n",
      "Epoch [017/030] | Train Loss: 110.0673\n",
      "Validation Loss: 109.3583\n",
      "Epoch [018/030] | Train Loss: 108.7459\n",
      "Validation Loss: 106.5099\n",
      "Epoch [019/030] | Train Loss: 107.8290\n",
      "Validation Loss: 106.8302\n",
      "Epoch [020/030] | Train Loss: 106.8063\n",
      "Validation Loss: 105.2011\n",
      "Epoch [021/030] | Train Loss: 106.1145\n",
      "Validation Loss: 105.9374\n",
      "Epoch [022/030] | Train Loss: 105.7546\n",
      "Validation Loss: 105.1136\n",
      "Epoch [023/030] | Train Loss: 105.0081\n",
      "Validation Loss: 105.3433\n",
      "Epoch [024/030] | Train Loss: 105.2399\n",
      "Validation Loss: 104.9434\n",
      "Epoch [025/030] | Train Loss: 104.8057\n",
      "Validation Loss: 104.0565\n",
      "Epoch [026/030] | Train Loss: 104.2835\n",
      "Validation Loss: 104.9126\n",
      "Epoch [027/030] | Train Loss: 104.1277\n",
      "Validation Loss: 104.4513\n",
      "Epoch [028/030] | Train Loss: 104.3793\n",
      "Validation Loss: 103.8256\n",
      "Epoch [029/030] | Train Loss: 103.7811\n",
      "Validation Loss: 103.7847\n",
      "Epoch [030/030] | Train Loss: 104.1344\n",
      "Validation Loss: 103.5033\n"
     ]
    }
   ],
   "source": [
    "\n",
    "# Trenowanie\n",
    "num_epochs = 30\n",
    "model.to(device)\n",
    "for epoch in range(num_epochs):\n",
    "    train(model, train_loader, criterion, optimizer, epoch, num_epochs)\n",
    "    validate(model, test_loader, criterion, device)"
   ]
  },
  {
   "cell_type": "code",
   "execution_count": null,
   "metadata": {},
   "outputs": [
    {
     "data": {
      "text/plain": [
       "[<matplotlib.lines.Line2D at 0x143f6154970>,\n",
       " <matplotlib.lines.Line2D at 0x143f61549d0>]"
      ]
     },
     "execution_count": 82,
     "metadata": {},
     "output_type": "execute_result"
    },
    {
     "data": {
      "image/png": "[encoded data removed]",
      "text/plain": [
       "<Figure size 640x480 with 1 Axes>"
      ]
     },
     "metadata": {},
     "output_type": "display_data"
    }
   ],
   "source": [
    "\n",
    "plt.plot(range(len(train_losses)), train_losses, val_losses)"
   ]
  },
  {
   "cell_type": "code",
   "execution_count": null,
   "metadata": {},
   "outputs": [
    {
     "name": "stdout",
     "output_type": "stream",
     "text": [
      "model.linear.bias=Parameter containing:\n",
      "tensor([9.5841], requires_grad=True)\n",
      "model.linear.weight=Parameter containing:\n",
      "tensor([[16.4458]], requires_grad=True)\n"
     ]
    }
   ],
   "source": [
    "\n",
    "# Parametry modelu\n",
    "print(f'{model.linear.bias=}')\n",
    "print(f'{model.linear.weight=}')"
   ]
  }
 ],
 "metadata": {
  "kernelspec": {
   "display_name": "pytorch_env",
   "language": "python",
   "name": "python3"
  },
  "language_info": {
   "codemirror_mode": {
    "name": "ipython",
    "version": 3
   },
   "file_extension": ".py",
   "mimetype": "text/x-python",
   "name": "python",
   "nbconvert_exporter": "python",
   "pygments_lexer": "ipython3",
   "version": "3.11.4"
  },
  "orig_nbformat": 4
 },
 "nbformat": 4,
 "nbformat_minor": 2
}
